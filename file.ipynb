{
 "cells": [
  {
   "cell_type": "code",
   "execution_count": null,
   "metadata": {},
   "outputs": [],
   "source": []
  },
  {
   "cell_type": "markdown",
   "metadata": {},
   "source": [
    "> blah blah\n",
    "\n",
    "\n",
    "Officiis ratione officiis labore corporis. Inventore possimus sed sequi dolores eos sint et itaque. Non quia voluptatum reprehenderit voluptatibus consectetur accusamus. Vel cupiditate ipsa praesentium.\n",
    "\n",
    "Minus quidem corrupti at sint vel qui. Iste sint qui sed aut. Reiciendis sit qui deserunt dolor voluptatum et recusandae.\n",
    "\n",
    "Qui qui sequi fuga in rem qui rem. Vel molestiae necessitatibus autem nobis et. Voluptatem tempora laudantium ut soluta sit accusamus. Vero et harum dolorem eum non quos nihil. Odit voluptatem eaque consectetur ut nam autem.\n",
    "\n",
    "Aliquid iusto similique tenetur. Repellat et qui quo repudiandae aperiam nihil itaque. Est distinctio qui ratione est ex molestias eveniet quae. Corporis recusandae est placeat quae quisquam aliquam deserunt.\n",
    "\n",
    "Maiores ea fuga similique expedita rerum est. Omnis nihil voluptate aliquam ut facilis consequatur. Qui exercitationem ipsum veniam fugit nesciunt in. Exercitationem aliquid autem suscipit nemo.\n"
   ]
  },
  {
   "cell_type": "code",
   "execution_count": null,
   "metadata": {},
   "outputs": [],
   "source": [
    "print(3/4 + 6)"
   ]
  }
 ],
 "metadata": {
  "language_info": {
   "name": "python"
  },
  "orig_nbformat": 4
 },
 "nbformat": 4,
 "nbformat_minor": 2
}
